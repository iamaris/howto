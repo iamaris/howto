{
 "cells": [
  {
   "cell_type": "markdown",
   "metadata": {},
   "source": [
    "## Install Nikola\n",
    "```bash\n",
    "pip install --upgrade \"Nikola[extras]\"\n",
    "```"
   ]
  },
  {
   "cell_type": "markdown",
   "metadata": {},
   "source": [
    "## Initialize your site\n",
    "```bash\n",
    "nikola init your_site_folder\n",
    "```"
   ]
  },
  {
   "cell_type": "markdown",
   "metadata": {},
   "source": [
    "## To use ipynb\n",
    "Download an IPython compatible theme. To list all the available themes in Nikola:\n",
    "```bash\n",
    "nikola install_theme -l \n",
    "```\n",
    "To install\n",
    "```bash\n",
    "nikola install_theme jinja-site-ipython\n",
    "```\n",
    "\n",
    "Modify your ```conf.py``` file. \n",
    "Add the following lines to ```POSTS```:\n",
    "```\n",
    "(\"posts/*.ipynb\", \"posts\", \"post.tmpl\", True), \n",
    "```\n",
    "and add the following line to ```PAGES```:\n",
    "```\n",
    "(\"stories/*.ipynb\", \"stories\", \"story.tmpl\", False),\n",
    "```\n",
    "and set ```THEME``` to:\n",
    "```bash\n",
    "THEME = 'jinja-site-ipython'\n",
    "```\n",
    "\n",
    "To write a new post,\n",
    "```bash\n",
    "nikola new_post -f ipynb \n",
    "```\n",
    "\n",
    "```-f ipynb``` is not needed if POSTS/PAGES only have ipynb option"
   ]
  },
  {
   "cell_type": "markdown",
   "metadata": {},
   "source": [
    "### Build your site\n",
    "```nikola build```"
   ]
  }
 ],
 "metadata": {
  "kernelspec": {
   "display_name": "Python 2",
   "language": "python",
   "name": "python2"
  },
  "language_info": {
   "codemirror_mode": {
    "name": "ipython",
    "version": 2
   },
   "file_extension": ".py",
   "mimetype": "text/x-python",
   "name": "python",
   "nbconvert_exporter": "python",
   "pygments_lexer": "ipython2",
   "version": "2.7.9"
  }
 },
 "nbformat": 4,
 "nbformat_minor": 2
}
