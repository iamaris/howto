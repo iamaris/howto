{
 "cells": [
  {
   "cell_type": "markdown",
   "metadata": {},
   "source": [
    "# How to create subdomain with nginx "
   ]
  },
  {
   "cell_type": "markdown",
   "metadata": {},
   "source": [
    "1) Just create a file inside `/etc/nginx/sites-available`, let say we name it `blog.n3rf.com`\n",
    "```bash\n",
    "vi blog.n3rf.com\n",
    "```\n",
    "\n",
    "then add something like the following\n",
    "\n",
    "```bash\n",
    "server {\n",
    "    listen 80;\n",
    "    server_name blog.n3rf.com;\n",
    "    root /home/ubuntu/nikola-blog/output/;\n",
    "\n",
    "    location / {\n",
    "    }\n",
    "}\n",
    "```\n",
    "\n",
    "2) Link it to `/etc/nginx/sites-enabled`\n",
    "\n",
    "```bash\n",
    "ln -s /etc/nginx/sites-available/blog.n3rf.com /etc/nginx/sites-enabled/blog.n3rf.com\n",
    "```\n",
    "\n",
    "3) Restart nginx\n",
    "\n",
    "```bash\n",
    "sudo service nginx restart\n",
    "```"
   ]
  }
 ],
 "metadata": {
  "kernelspec": {
   "display_name": "Python 2 (scratch)",
   "language": "python",
   "name": "scratch"
  },
  "language_info": {
   "codemirror_mode": {
    "name": "ipython",
    "version": 2
   },
   "file_extension": ".py",
   "mimetype": "text/x-python",
   "name": "python",
   "nbconvert_exporter": "python",
   "pygments_lexer": "ipython2",
   "version": "2.7.9"
  }
 },
 "nbformat": 4,
 "nbformat_minor": 2
}
